{
 "cells": [
  {
   "cell_type": "code",
   "execution_count": 1,
   "id": "56ce19d3-f517-4d7c-9b6c-c2fc2f6a00e7",
   "metadata": {},
   "outputs": [],
   "source": [
    "import numpy as np\n",
    "import pandas as pd\n",
    "import matplotlib.pyplot as plt\n",
    "import seaborn as sns\n",
    "from sklearn.feature_selection import f_classif\n",
    "from sklearn.model_selection import train_test_split\n",
    "from sklearn.linear_model import LinearRegression\n",
    "from sklearn.ensemble import RandomForestRegressor, GradientBoostingRegressor\n",
    "from sklearn.metrics import mean_squared_error\n",
    "\n",
    "%matplotlib inline"
   ]
  },
  {
   "cell_type": "markdown",
   "id": "469247a0-e9f7-4c7a-a00c-c0201eee2b7a",
   "metadata": {},
   "source": [
    "Read the dataset (assuming it is located in the same directory as the notebook)."
   ]
  },
  {
   "cell_type": "code",
   "execution_count": 2,
   "id": "66795fb8-e29e-44db-ae48-818e603d90f2",
   "metadata": {},
   "outputs": [],
   "source": [
    "df = pd.read_excel('TG_T_CashValues_Rel.xlsx')"
   ]
  },
  {
   "cell_type": "markdown",
   "id": "aaf7e235-56e8-4b46-9960-74f3f6656b4b",
   "metadata": {},
   "source": [
    "### Exploring the dataset."
   ]
  },
  {
   "cell_type": "markdown",
   "id": "a166fea4-3b3b-42b3-a48f-b013caf38e10",
   "metadata": {},
   "source": [
    "Show the first few rows in the dataframe"
   ]
  },
  {
   "cell_type": "code",
   "execution_count": 3,
   "id": "49a5e14c-c9ba-4877-949b-3b3316d84f87",
   "metadata": {},
   "outputs": [
    {
     "data": {
      "text/html": [
       "<div>\n",
       "<style scoped>\n",
       "    .dataframe tbody tr th:only-of-type {\n",
       "        vertical-align: middle;\n",
       "    }\n",
       "\n",
       "    .dataframe tbody tr th {\n",
       "        vertical-align: top;\n",
       "    }\n",
       "\n",
       "    .dataframe thead th {\n",
       "        text-align: right;\n",
       "    }\n",
       "</style>\n",
       "<table border=\"1\" class=\"dataframe\">\n",
       "  <thead>\n",
       "    <tr style=\"text-align: right;\">\n",
       "      <th></th>\n",
       "      <th>Gender</th>\n",
       "      <th>Age</th>\n",
       "      <th>Dur</th>\n",
       "      <th>ppv</th>\n",
       "    </tr>\n",
       "  </thead>\n",
       "  <tbody>\n",
       "    <tr>\n",
       "      <th>0</th>\n",
       "      <td>Male</td>\n",
       "      <td>0</td>\n",
       "      <td>20</td>\n",
       "      <td>15.198437</td>\n",
       "    </tr>\n",
       "    <tr>\n",
       "      <th>1</th>\n",
       "      <td>Male</td>\n",
       "      <td>0</td>\n",
       "      <td>21</td>\n",
       "      <td>15.741015</td>\n",
       "    </tr>\n",
       "    <tr>\n",
       "      <th>2</th>\n",
       "      <td>Male</td>\n",
       "      <td>0</td>\n",
       "      <td>22</td>\n",
       "      <td>16.267189</td>\n",
       "    </tr>\n",
       "    <tr>\n",
       "      <th>3</th>\n",
       "      <td>Male</td>\n",
       "      <td>0</td>\n",
       "      <td>23</td>\n",
       "      <td>16.777448</td>\n",
       "    </tr>\n",
       "    <tr>\n",
       "      <th>4</th>\n",
       "      <td>Male</td>\n",
       "      <td>0</td>\n",
       "      <td>24</td>\n",
       "      <td>17.272269</td>\n",
       "    </tr>\n",
       "  </tbody>\n",
       "</table>\n",
       "</div>"
      ],
      "text/plain": [
       "  Gender  Age  Dur        ppv\n",
       "0   Male    0   20  15.198437\n",
       "1   Male    0   21  15.741015\n",
       "2   Male    0   22  16.267189\n",
       "3   Male    0   23  16.777448\n",
       "4   Male    0   24  17.272269"
      ]
     },
     "execution_count": 3,
     "metadata": {},
     "output_type": "execute_result"
    }
   ],
   "source": [
    "df.head()"
   ]
  },
  {
   "cell_type": "markdown",
   "id": "8fcd12d5-1662-4f9a-a613-fb68bd81ce2f",
   "metadata": {},
   "source": [
    "Show column names, datatypes along with the count of non-null values"
   ]
  },
  {
   "cell_type": "code",
   "execution_count": 4,
   "id": "88e4f1ec-d03b-40f1-a011-8d443aab70b5",
   "metadata": {},
   "outputs": [
    {
     "name": "stdout",
     "output_type": "stream",
     "text": [
      "<class 'pandas.core.frame.DataFrame'>\n",
      "RangeIndex: 5270 entries, 0 to 5269\n",
      "Data columns (total 4 columns):\n",
      " #   Column  Non-Null Count  Dtype  \n",
      "---  ------  --------------  -----  \n",
      " 0   Gender  5270 non-null   object \n",
      " 1   Age     5270 non-null   int64  \n",
      " 2   Dur     5270 non-null   int64  \n",
      " 3   ppv     5270 non-null   float64\n",
      "dtypes: float64(1), int64(2), object(1)\n",
      "memory usage: 164.8+ KB\n"
     ]
    }
   ],
   "source": [
    "df.info()"
   ]
  },
  {
   "cell_type": "markdown",
   "id": "438eb3b7-f12d-46ba-8e43-96c2a3c70a56",
   "metadata": {},
   "source": [
    "Check for null values"
   ]
  },
  {
   "cell_type": "code",
   "execution_count": 5,
   "id": "ce9889ef-c2b6-4e30-8570-7e1844da9542",
   "metadata": {},
   "outputs": [
    {
     "data": {
      "text/plain": [
       "Gender    0\n",
       "Age       0\n",
       "Dur       0\n",
       "ppv       0\n",
       "dtype: int64"
      ]
     },
     "execution_count": 5,
     "metadata": {},
     "output_type": "execute_result"
    }
   ],
   "source": [
    "df.isnull().sum()"
   ]
  },
  {
   "cell_type": "markdown",
   "id": "345c2cc5-5f7d-4508-91ee-286a3599a27f",
   "metadata": {},
   "source": [
    "No null values"
   ]
  },
  {
   "cell_type": "markdown",
   "id": "d97d7845-6e74-4653-91bf-05034c209c2f",
   "metadata": {},
   "source": [
    "Check for inconsistent values"
   ]
  },
  {
   "cell_type": "markdown",
   "id": "7b752ec5-5ddd-4ffc-a432-7e253023b005",
   "metadata": {},
   "source": [
    "For age, dur (duration), and ppv (pay-per-view), they should be non-negative"
   ]
  },
  {
   "cell_type": "code",
   "execution_count": 6,
   "id": "aa1291b9-bd89-4431-8feb-f5668832bb5c",
   "metadata": {},
   "outputs": [
    {
     "data": {
      "text/html": [
       "<div>\n",
       "<style scoped>\n",
       "    .dataframe tbody tr th:only-of-type {\n",
       "        vertical-align: middle;\n",
       "    }\n",
       "\n",
       "    .dataframe tbody tr th {\n",
       "        vertical-align: top;\n",
       "    }\n",
       "\n",
       "    .dataframe thead th {\n",
       "        text-align: right;\n",
       "    }\n",
       "</style>\n",
       "<table border=\"1\" class=\"dataframe\">\n",
       "  <thead>\n",
       "    <tr style=\"text-align: right;\">\n",
       "      <th></th>\n",
       "      <th>Gender</th>\n",
       "      <th>Age</th>\n",
       "      <th>Dur</th>\n",
       "      <th>ppv</th>\n",
       "    </tr>\n",
       "  </thead>\n",
       "  <tbody>\n",
       "  </tbody>\n",
       "</table>\n",
       "</div>"
      ],
      "text/plain": [
       "Empty DataFrame\n",
       "Columns: [Gender, Age, Dur, ppv]\n",
       "Index: []"
      ]
     },
     "execution_count": 6,
     "metadata": {},
     "output_type": "execute_result"
    }
   ],
   "source": [
    "df[df['Age'] < 0]"
   ]
  },
  {
   "cell_type": "code",
   "execution_count": 7,
   "id": "a1b1a86d-972a-4372-afd9-ffee87b9fcbc",
   "metadata": {},
   "outputs": [
    {
     "data": {
      "text/html": [
       "<div>\n",
       "<style scoped>\n",
       "    .dataframe tbody tr th:only-of-type {\n",
       "        vertical-align: middle;\n",
       "    }\n",
       "\n",
       "    .dataframe tbody tr th {\n",
       "        vertical-align: top;\n",
       "    }\n",
       "\n",
       "    .dataframe thead th {\n",
       "        text-align: right;\n",
       "    }\n",
       "</style>\n",
       "<table border=\"1\" class=\"dataframe\">\n",
       "  <thead>\n",
       "    <tr style=\"text-align: right;\">\n",
       "      <th></th>\n",
       "      <th>Gender</th>\n",
       "      <th>Age</th>\n",
       "      <th>Dur</th>\n",
       "      <th>ppv</th>\n",
       "    </tr>\n",
       "  </thead>\n",
       "  <tbody>\n",
       "  </tbody>\n",
       "</table>\n",
       "</div>"
      ],
      "text/plain": [
       "Empty DataFrame\n",
       "Columns: [Gender, Age, Dur, ppv]\n",
       "Index: []"
      ]
     },
     "execution_count": 7,
     "metadata": {},
     "output_type": "execute_result"
    }
   ],
   "source": [
    "df[df['Dur'] < 0]"
   ]
  },
  {
   "cell_type": "code",
   "execution_count": 8,
   "id": "314f7903-248e-4388-bc44-0330c3af596c",
   "metadata": {},
   "outputs": [
    {
     "data": {
      "text/html": [
       "<div>\n",
       "<style scoped>\n",
       "    .dataframe tbody tr th:only-of-type {\n",
       "        vertical-align: middle;\n",
       "    }\n",
       "\n",
       "    .dataframe tbody tr th {\n",
       "        vertical-align: top;\n",
       "    }\n",
       "\n",
       "    .dataframe thead th {\n",
       "        text-align: right;\n",
       "    }\n",
       "</style>\n",
       "<table border=\"1\" class=\"dataframe\">\n",
       "  <thead>\n",
       "    <tr style=\"text-align: right;\">\n",
       "      <th></th>\n",
       "      <th>Gender</th>\n",
       "      <th>Age</th>\n",
       "      <th>Dur</th>\n",
       "      <th>ppv</th>\n",
       "    </tr>\n",
       "  </thead>\n",
       "  <tbody>\n",
       "  </tbody>\n",
       "</table>\n",
       "</div>"
      ],
      "text/plain": [
       "Empty DataFrame\n",
       "Columns: [Gender, Age, Dur, ppv]\n",
       "Index: []"
      ]
     },
     "execution_count": 8,
     "metadata": {},
     "output_type": "execute_result"
    }
   ],
   "source": [
    "df[df['ppv'] < 0]"
   ]
  },
  {
   "cell_type": "markdown",
   "id": "8a265d1d-3f3c-4edd-98ca-d020eb9e0c4d",
   "metadata": {},
   "source": [
    "No inconsistencies"
   ]
  },
  {
   "cell_type": "markdown",
   "id": "410e960a-5ae7-4515-89f8-dcb300fa5532",
   "metadata": {},
   "source": [
    "#### Space optimization."
   ]
  },
  {
   "cell_type": "markdown",
   "id": "08a55cb6-518b-4703-a15e-145a24c1d425",
   "metadata": {},
   "source": [
    "For the Gender attribute, it is a string type, in order to optimize the storage, we can convert it to `category` type if the unique values number is small"
   ]
  },
  {
   "cell_type": "code",
   "execution_count": 9,
   "id": "f8291141-e476-4108-8a57-e31bff07c66b",
   "metadata": {},
   "outputs": [
    {
     "data": {
      "text/plain": [
       "array(['Male', 'Female'], dtype=object)"
      ]
     },
     "execution_count": 9,
     "metadata": {},
     "output_type": "execute_result"
    }
   ],
   "source": [
    "df['Gender'].unique()"
   ]
  },
  {
   "cell_type": "markdown",
   "id": "8b363616-fe66-4de5-8d3e-c475eac28d74",
   "metadata": {},
   "source": [
    "As we can see, there are just 2 unique values, so it is good to convert the type to category"
   ]
  },
  {
   "cell_type": "code",
   "execution_count": 10,
   "id": "f2648da1-a5f9-4fea-bf87-3aeda8a0968d",
   "metadata": {},
   "outputs": [],
   "source": [
    "df['Gender'] = df['Gender'].astype('category')"
   ]
  },
  {
   "cell_type": "markdown",
   "id": "12cb59f5-3fd5-415c-aa5d-e32d6ec960e0",
   "metadata": {},
   "source": [
    "Now for `Age` attruibute, check the range of it to see if we can store the values in a smaller datatype (like `int8`) instead of `int64`"
   ]
  },
  {
   "cell_type": "code",
   "execution_count": 11,
   "id": "a26872db-fef1-4774-8fbf-c7600d78ca6c",
   "metadata": {},
   "outputs": [
    {
     "data": {
      "text/plain": [
       "count    5270.000000\n",
       "mean       31.294118\n",
       "std        18.671548\n",
       "min         0.000000\n",
       "25%        16.000000\n",
       "50%        30.000000\n",
       "75%        45.000000\n",
       "max        80.000000\n",
       "Name: Age, dtype: float64"
      ]
     },
     "execution_count": 11,
     "metadata": {},
     "output_type": "execute_result"
    }
   ],
   "source": [
    "df['Age'].describe()"
   ]
  },
  {
   "cell_type": "markdown",
   "id": "5779b016-e72c-43aa-87b9-42338a1092b2",
   "metadata": {},
   "source": [
    "As we can see, minimum value is 0 and max value is 80, we can store it in `int8`"
   ]
  },
  {
   "cell_type": "code",
   "execution_count": 12,
   "id": "033bc1e2-9da3-45e8-810f-cf3fb651a90d",
   "metadata": {},
   "outputs": [],
   "source": [
    "df['Age'] = df['Age'].astype('int8')"
   ]
  },
  {
   "cell_type": "markdown",
   "id": "a9f92490-3f3b-42b0-90e2-86033cad0374",
   "metadata": {},
   "source": [
    "Do the same for `Dur` attribute."
   ]
  },
  {
   "cell_type": "code",
   "execution_count": 13,
   "id": "9a9f4c31-f561-40de-894b-9fb3c932e692",
   "metadata": {},
   "outputs": [
    {
     "data": {
      "text/plain": [
       "count    5270.000000\n",
       "mean       22.882353\n",
       "std        13.793388\n",
       "min         1.000000\n",
       "25%        11.000000\n",
       "50%        22.000000\n",
       "75%        34.000000\n",
       "max        50.000000\n",
       "Name: Dur, dtype: float64"
      ]
     },
     "execution_count": 13,
     "metadata": {},
     "output_type": "execute_result"
    }
   ],
   "source": [
    "df['Dur'].describe()"
   ]
  },
  {
   "cell_type": "markdown",
   "id": "ec30ccb4-5490-44b4-8bd5-ff3f793f905b",
   "metadata": {},
   "source": [
    "Min = 1, Max = 50 => `int8`"
   ]
  },
  {
   "cell_type": "code",
   "execution_count": 14,
   "id": "2db279ed-ddf6-4ba4-a96e-8254a4dfe1e4",
   "metadata": {},
   "outputs": [],
   "source": [
    "df['Dur'] = df['Dur'].astype('int8')"
   ]
  },
  {
   "cell_type": "markdown",
   "id": "7a5c43fa-298a-4e2b-ab07-a86fa1c9efce",
   "metadata": {},
   "source": [
    "Now let's see the memory usage."
   ]
  },
  {
   "cell_type": "code",
   "execution_count": 15,
   "id": "c3f1e970-fbe0-4fe9-9cc3-8095315b6215",
   "metadata": {},
   "outputs": [
    {
     "name": "stdout",
     "output_type": "stream",
     "text": [
      "<class 'pandas.core.frame.DataFrame'>\n",
      "RangeIndex: 5270 entries, 0 to 5269\n",
      "Data columns (total 4 columns):\n",
      " #   Column  Non-Null Count  Dtype   \n",
      "---  ------  --------------  -----   \n",
      " 0   Gender  5270 non-null   category\n",
      " 1   Age     5270 non-null   int8    \n",
      " 2   Dur     5270 non-null   int8    \n",
      " 3   ppv     5270 non-null   float64 \n",
      "dtypes: category(1), float64(1), int8(2)\n",
      "memory usage: 56.9 KB\n"
     ]
    }
   ],
   "source": [
    "df.info()"
   ]
  },
  {
   "cell_type": "markdown",
   "id": "72b249e6-4d96-4896-9882-3ed184e33e41",
   "metadata": {},
   "source": [
    "From 164.8+ KB to 56.9 KB, that's cool!"
   ]
  },
  {
   "cell_type": "markdown",
   "id": "ea175e91-a561-46da-a323-2a102f03a3f3",
   "metadata": {},
   "source": [
    "### Study attributes for outliers. "
   ]
  },
  {
   "cell_type": "markdown",
   "id": "bf47b7fc-69db-4fa4-aa99-2cf00ba1ed31",
   "metadata": {},
   "source": [
    "Let's discover Outliers in age, dur, and ppv features using box plots."
   ]
  },
  {
   "cell_type": "code",
   "execution_count": 16,
   "id": "2ea5acf0-4048-4f4b-b923-d5e987b0b98b",
   "metadata": {},
   "outputs": [
    {
     "data": {
      "image/png": "[encoded data removed]",
      "text/plain": [
       "<Figure size 640x480 with 1 Axes>"
      ]
     },
     "metadata": {},
     "output_type": "display_data"
    }
   ],
   "source": [
    "sns.boxplot(data=df['Age']);"
   ]
  },
  {
   "cell_type": "code",
   "execution_count": 17,
   "id": "6e26c45c-8cc0-4b7e-860b-3f565b449e48",
   "metadata": {},
   "outputs": [
    {
     "data": {
      "image/png": "[encoded data removed]",
      "text/plain": [
       "<Figure size 640x480 with 1 Axes>"
      ]
     },
     "metadata": {},
     "output_type": "display_data"
    }
   ],
   "source": [
    "sns.boxplot(data=df['Dur']);"
   ]
  },
  {
   "cell_type": "code",
   "execution_count": 18,
   "id": "cea8b421-7912-4030-b007-9403fb074382",
   "metadata": {},
   "outputs": [
    {
     "data": {
      "image/png": "[encoded data removed]",
      "text/plain": [
       "<Figure size 640x480 with 1 Axes>"
      ]
     },
     "metadata": {},
     "output_type": "display_data"
    }
   ],
   "source": [
    "sns.boxplot(df['ppv']);"
   ]
  },
  {
   "cell_type": "markdown",
   "id": "c52fc378-2eaf-4b28-8c01-5d36d3adaf3d",
   "metadata": {},
   "source": [
    "As we can see, no outliers."
   ]
  },
  {
   "cell_type": "markdown",
   "id": "0f76607f-0364-4c2e-8dcc-031e11a6baa8",
   "metadata": {},
   "source": [
    "### Feature selection for the prediciton process."
   ]
  },
  {
   "cell_type": "markdown",
   "id": "10b029a0-0785-4cff-bf12-e7e2ecfa82c4",
   "metadata": {},
   "source": [
    "All of the attributes can be relevant somehow to the target (ppv)."
   ]
  },
  {
   "cell_type": "markdown",
   "id": "d06bb0b2-28cd-4ff2-a48b-d835228760ca",
   "metadata": {},
   "source": [
    "Let's do further analysis."
   ]
  },
  {
   "cell_type": "markdown",
   "id": "49cbae51-893e-4ffa-83b8-0b1271ea87c6",
   "metadata": {},
   "source": [
    "For the numeric features, calculate the correlation between the feature and the target value."
   ]
  },
  {
   "cell_type": "code",
   "execution_count": 19,
   "id": "fdbcfc39-bd81-402f-a89b-83e1467be27b",
   "metadata": {},
   "outputs": [
    {
     "data": {
      "text/html": [
       "<div>\n",
       "<style scoped>\n",
       "    .dataframe tbody tr th:only-of-type {\n",
       "        vertical-align: middle;\n",
       "    }\n",
       "\n",
       "    .dataframe tbody tr th {\n",
       "        vertical-align: top;\n",
       "    }\n",
       "\n",
       "    .dataframe thead th {\n",
       "        text-align: right;\n",
       "    }\n",
       "</style>\n",
       "<table border=\"1\" class=\"dataframe\">\n",
       "  <thead>\n",
       "    <tr style=\"text-align: right;\">\n",
       "      <th></th>\n",
       "      <th>Age</th>\n",
       "      <th>Dur</th>\n",
       "      <th>ppv</th>\n",
       "    </tr>\n",
       "  </thead>\n",
       "  <tbody>\n",
       "    <tr>\n",
       "      <th>Age</th>\n",
       "      <td>1.000000</td>\n",
       "      <td>-0.507243</td>\n",
       "      <td>-0.565087</td>\n",
       "    </tr>\n",
       "    <tr>\n",
       "      <th>Dur</th>\n",
       "      <td>-0.507243</td>\n",
       "      <td>1.000000</td>\n",
       "      <td>0.978774</td>\n",
       "    </tr>\n",
       "    <tr>\n",
       "      <th>ppv</th>\n",
       "      <td>-0.565087</td>\n",
       "      <td>0.978774</td>\n",
       "      <td>1.000000</td>\n",
       "    </tr>\n",
       "  </tbody>\n",
       "</table>\n",
       "</div>"
      ],
      "text/plain": [
       "          Age       Dur       ppv\n",
       "Age  1.000000 -0.507243 -0.565087\n",
       "Dur -0.507243  1.000000  0.978774\n",
       "ppv -0.565087  0.978774  1.000000"
      ]
     },
     "execution_count": 19,
     "metadata": {},
     "output_type": "execute_result"
    }
   ],
   "source": [
    "df.corr(numeric_only=True)"
   ]
  },
  {
   "cell_type": "markdown",
   "id": "3fd7457b-db4a-42db-972a-1c5eee99059e",
   "metadata": {},
   "source": [
    "As we can see, A high correlation value for the `Dur` attribute and a relatively 'good' value for the `Age` attribute (with `ppv`).\n",
    "\n",
    "Also note that the correlation between `Age` and `Dur` attributes are not strong enough for them to replace one another. \n",
    "\n",
    "We can consider both of them for the prediction process."
   ]
  },
  {
   "cell_type": "markdown",
   "id": "d212e02f-8916-4eaa-b05e-41abb852a43c",
   "metadata": {},
   "source": [
    "We can support our results with a pair plot containing scatter plots for the features."
   ]
  },
  {
   "cell_type": "code",
   "execution_count": 20,
   "id": "b8ab1c4c-978a-439d-9a06-d8aea0cb5c8a",
   "metadata": {},
   "outputs": [
    {
     "data": {
      "image/png": "[encoded data removed]",
      "text/plain": [
       "<Figure size 750x750 with 12 Axes>"
      ]
     },
     "metadata": {},
     "output_type": "display_data"
    }
   ],
   "source": [
    "sns.pairplot(df);"
   ]
  },
  {
   "cell_type": "markdown",
   "id": "ddabaa11-50dd-476e-98f1-ad2ffe250eba",
   "metadata": {},
   "source": [
    "For the categorical feature, we can use the ANOVA (ANalysis Of VAriance) as a metric to decide.\n",
    "\n",
    "Read about ANOVA [here](https://www.statisticssolutions.com/free-resources/directory-of-statistical-analyses/anova/#:~:text=After%20cleaning%20the%20data%2C%20the,the%20alternative%20hypothesis%20is%20supported.)"
   ]
  },
  {
   "cell_type": "code",
   "execution_count": 21,
   "id": "ec2bee8a-99aa-4224-a5d5-59990e3f1892",
   "metadata": {},
   "outputs": [
    {
     "name": "stdout",
     "output_type": "stream",
     "text": [
      "[0.12075744 0.12075744]\n",
      "[1. 1.]\n"
     ]
    }
   ],
   "source": [
    "f_values, p_values = f_classif(pd.get_dummies(df['Gender']), df['ppv'])\n",
    "\n",
    "print(f_values)\n",
    "print(p_values)"
   ]
  },
  {
   "cell_type": "markdown",
   "id": "cd063d4b-3571-4c25-9b6e-6e1972d17e3b",
   "metadata": {},
   "source": [
    "The result here supports not considering the `Gender` categorical feature in the prediction process."
   ]
  },
  {
   "cell_type": "markdown",
   "id": "15bb754c-c0af-4bce-9edc-1f8a12e90c54",
   "metadata": {},
   "source": [
    "### Choosing a Perdiction algorithm"
   ]
  },
  {
   "cell_type": "markdown",
   "id": "241d918e-ae97-4931-a475-a00330a46b74",
   "metadata": {},
   "source": [
    "For the context, the size, and the conclusion above of the dataset of our problem, I would consider (after searching) one of these algorithms:\n",
    "- Linear Regression\n",
    "- Random Forest Regressor\n",
    "- Gradient Boosting Regressor\n",
    "\n",
    "I will choose based on the performance of each algorithm given the dataset (here I will take the MSE (Mean squared error) metric).\n",
    "\n",
    "If equal values of MSE are detected, the least complex one of the algorithms that has the min. MSE will be chosen."
   ]
  },
  {
   "cell_type": "code",
   "execution_count": 22,
   "id": "938bf34e-77f9-4fc5-87ef-1646bf668771",
   "metadata": {},
   "outputs": [],
   "source": [
    "# features to consider\n",
    "X = df[['Age', 'Dur']]"
   ]
  },
  {
   "cell_type": "code",
   "execution_count": 23,
   "id": "900e903e-160f-46f6-98bc-6f2de692c648",
   "metadata": {},
   "outputs": [],
   "source": [
    "# target\n",
    "y = df['ppv']"
   ]
  },
  {
   "cell_type": "code",
   "execution_count": 24,
   "id": "fb5fa72a-263e-4ffc-a67c-74dbdea4ade5",
   "metadata": {},
   "outputs": [],
   "source": [
    "# train-test split\n",
    "X_train, X_test, y_train, y_test = train_test_split(X, y, test_size=0.2, random_state=42)"
   ]
  },
  {
   "cell_type": "code",
   "execution_count": 25,
   "id": "e8c30495-4a27-498f-b772-30ce3fedff4e",
   "metadata": {},
   "outputs": [],
   "source": [
    "# a function to get the MSE for a regressor given the X_test and y_test data.\n",
    "def get_MSE(regressor, X_test, y_test):\n",
    "    y_pred = regressor.predict(X_test)\n",
    "    \n",
    "    return mean_squared_error(y_test, y_pred)"
   ]
  },
  {
   "cell_type": "code",
   "execution_count": 26,
   "id": "cf4c1c16-55cb-4d72-b976-aa9ce421e142",
   "metadata": {},
   "outputs": [],
   "source": [
    "# Regressors to use\n",
    "regressors = {\n",
    "    'Linear Regression': LinearRegression(), \n",
    "    'Random Forest Regressor': RandomForestRegressor(random_state=42), \n",
    "    'Gradient Boosting Regressor': GradientBoostingRegressor(random_state=42)\n",
    "}"
   ]
  },
  {
   "cell_type": "code",
   "execution_count": 27,
   "id": "3e013ac0-c756-485e-add4-04768478c7cd",
   "metadata": {},
   "outputs": [
    {
     "name": "stdout",
     "output_type": "stream",
     "text": [
      "MSE of Linear Regression regressor = 1.6507694667888972\n",
      "MSE of Random Forest Regressor regressor = 0.1362632764910693\n",
      "MSE of Gradient Boosting Regressor regressor = 0.07571558316121467\n"
     ]
    }
   ],
   "source": [
    "# fit X_train and y_train, calculate the MSE, print the calculated MSE with its corresponding algorithm name, \n",
    "# and pick the regressor index with the minimum MSE\n",
    "mn_MSE = float(\"infinity\")\n",
    "mn_MSE_name = None\n",
    "\n",
    "for (name, reg) in regressors.items():\n",
    "    reg.fit(X_train, y_train)\n",
    "\n",
    "    mse = get_MSE(reg, X_test, y_test)\n",
    "\n",
    "    print(f'MSE of {name} regressor = {mse}')\n",
    "\n",
    "    if mse < mn_MSE:\n",
    "        mn_MSE_name = name\n",
    "        mn_MSE = mse"
   ]
  },
  {
   "cell_type": "markdown",
   "id": "bfcbfc24-5f51-4dce-ba4f-6aea7666636a",
   "metadata": {},
   "source": [
    "As we can see, `GradientBoostingRegressor` has the min. value of MSE, therefore, it will be chosen."
   ]
  },
  {
   "cell_type": "markdown",
   "id": "75e4c62b-7095-465c-85d7-ae779b931aa5",
   "metadata": {},
   "source": [
    "Everything is ready for this regressor so far, let's predict `ppv` for some sample values."
   ]
  },
  {
   "cell_type": "code",
   "execution_count": 28,
   "id": "a587f042-b38b-48be-ad8d-f18020e33bf2",
   "metadata": {},
   "outputs": [],
   "source": [
    "chosen_regressor = regressors[mn_MSE_name]"
   ]
  },
  {
   "cell_type": "code",
   "execution_count": 29,
   "id": "c392fb82-9388-44dc-8971-2c04cc8672ef",
   "metadata": {},
   "outputs": [
    {
     "data": {
      "text/plain": [
       "array([15.14048993])"
      ]
     },
     "execution_count": 29,
     "metadata": {},
     "output_type": "execute_result"
    }
   ],
   "source": [
    "# the first sample in the result of df.head()\n",
    "chosen_regressor.predict(pd.DataFrame([[0, 20]], columns=X.columns))\n",
    "# A dataframe to ignore the warning appears when a simple list is passed because the datasets used for the prior processes are labeled."
   ]
  },
  {
   "cell_type": "code",
   "execution_count": 30,
   "id": "f6ab8870-1688-4e77-a89a-11b24e4d7971",
   "metadata": {},
   "outputs": [
    {
     "data": {
      "text/plain": [
       "array([19.86364557])"
      ]
     },
     "execution_count": 30,
     "metadata": {},
     "output_type": "execute_result"
    }
   ],
   "source": [
    "# Let's try another value (from me this time)\n",
    "chosen_regressor.predict(pd.DataFrame([[15, 30]], columns=X.columns))"
   ]
  }
 ],
 "metadata": {
  "kernelspec": {
   "display_name": "Python 3 (ipykernel)",
   "language": "python",
   "name": "python3"
  },
  "language_info": {
   "codemirror_mode": {
    "name": "ipython",
    "version": 3
   },
   "file_extension": ".py",
   "mimetype": "text/x-python",
   "name": "python",
   "nbconvert_exporter": "python",
   "pygments_lexer": "ipython3",
   "version": "3.12.2"
  }
 },
 "nbformat": 4,
 "nbformat_minor": 5
}
